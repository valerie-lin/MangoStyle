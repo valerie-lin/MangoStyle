{
  "nbformat": 4,
  "nbformat_minor": 0,
  "metadata": {
    "colab": {
      "name": "ResNeXT_v1.ipynb",
      "provenance": [],
      "authorship_tag": "ABX9TyPw+mRVkXrp7PlgkmopWnbw",
      "include_colab_link": true
    },
    "kernelspec": {
      "name": "python3",
      "display_name": "Python 3"
    },
    "accelerator": "GPU"
  },
  "cells": [
    {
      "cell_type": "markdown",
      "metadata": {
        "id": "view-in-github",
        "colab_type": "text"
      },
      "source": [
        "<a href=\"https://colab.research.google.com/github/valerie-lin/MangoStyle/blob/master/ResNeXT_v1.ipynb\" target=\"_parent\"><img src=\"https://colab.research.google.com/assets/colab-badge.svg\" alt=\"Open In Colab\"/></a>"
      ]
    },
    {
      "cell_type": "markdown",
      "metadata": {
        "id": "wOxhlyaA_MnB",
        "colab_type": "text"
      },
      "source": [
        "把 drive 的檔案叫過來，這邊不用跑這個block"
      ]
    },
    {
      "cell_type": "code",
      "metadata": {
        "id": "GlDdPrLdHjEm",
        "colab_type": "code",
        "colab": {}
      },
      "source": [
        "from google.colab import drive\n",
        "import os\n",
        "drive.mount('/content/gdrive')"
      ],
      "execution_count": 0,
      "outputs": []
    },
    {
      "cell_type": "markdown",
      "metadata": {
        "id": "xW0YPL2Y_aOa",
        "colab_type": "text"
      },
      "source": [
        "### 用 ID 得到C1-P1_Train 再解壓縮\n",
        "* 路徑在 /content\n",
        "* 等等執行時會直接在這個目錄下"
      ]
    },
    {
      "cell_type": "code",
      "metadata": {
        "id": "A5btZ8x2n3ap",
        "colab_type": "code",
        "colab": {}
      },
      "source": [
        "!gdown --id '1euWEtsOIrF0H9Ob9wjtn5Oo5KmlmEeHM' --output C1-P1_Train\\ Dev.rar\n",
        "!unrar x C1-P1_Train\\ Dev.rar\n",
        "!ls"
      ],
      "execution_count": 0,
      "outputs": []
    },
    {
      "cell_type": "code",
      "metadata": {
        "id": "dvHIotZ9XPXo",
        "colab_type": "code",
        "colab": {}
      },
      "source": [
        "#https://drive.google.com/file/d/1WTI8HzfuqWyH3IIeLG955LUgmnjISzgS/view?usp=sharing\n",
        "#https://drive.google.com/file/d/1pL7uF5Ej-IWYwdcXG37JSQFTUnFWgE07/view?usp=sharing\n",
        "\n",
        "!gdown --id '1WTI8HzfuqWyH3IIeLG955LUgmnjISzgS' --output Dev.tar.xz\n",
        "!tar -xvf  'Dev.tar.xz' \n",
        "\n",
        "!gdown --id '1pL7uF5Ej-IWYwdcXG37JSQFTUnFWgE07' --output train.tar.xz\n",
        "!tar -xvf  'train.tar.xz'\n",
        "!ls\n",
        "\n"
      ],
      "execution_count": 0,
      "outputs": []
    },
    {
      "cell_type": "code",
      "metadata": {
        "id": "t4RCh8YRH5YE",
        "colab_type": "code",
        "colab": {}
      },
      "source": [
        "!pip install -r requirements.txt\n",
        "\n"
      ],
      "execution_count": 0,
      "outputs": []
    },
    {
      "cell_type": "markdown",
      "metadata": {
        "id": "1Y78fr1l_Ta2",
        "colab_type": "text"
      },
      "source": [
        "import\n"
      ]
    },
    {
      "cell_type": "code",
      "metadata": {
        "id": "BrnauiuL_7AU",
        "colab_type": "code",
        "colab": {}
      },
      "source": [
        "import torch.nn as nn\n",
        "import math\n",
        "import torch.utils.model_zoo as model_zoo\n",
        "import torchvision.models as models\n",
        "import torch\n",
        "import cv2\n",
        "from PIL import Image\n",
        "import torchvision.transforms as transforms\n",
        "from torch.autograd import Variable\n",
        "\n",
        "import pandas as pd\n",
        "import numpy as np\n",
        "from pathlib import Path"
      ],
      "execution_count": 0,
      "outputs": []
    },
    {
      "cell_type": "code",
      "metadata": {
        "id": "kYaxFVLqLO0R",
        "colab_type": "code",
        "colab": {}
      },
      "source": [
        "from sklearn.feature_selection import SelectPercentile, chi2\n",
        "from sklearn.pipeline import Pipeline\n",
        "from sklearn.svm import SVC\n",
        "from sklearn import svm\n",
        "from sklearn.model_selection import cross_val_score\n",
        "from sklearn.feature_selection import SelectKBest\n",
        "from sklearn.feature_selection import f_classif\n",
        "from sklearn.preprocessing import StandardScaler\n",
        "from sklearn.model_selection import train_test_split\n",
        "from sklearn.metrics import recall_score\n",
        "import pickle\n",
        "import sklearn"
      ],
      "execution_count": 0,
      "outputs": []
    },
    {
      "cell_type": "markdown",
      "metadata": {
        "id": "SvrulgLj_zM5",
        "colab_type": "text"
      },
      "source": [
        "用 torch.hub 上的 ResNeXT 50"
      ]
    },
    {
      "cell_type": "code",
      "metadata": {
        "id": "xyGXwE6WALCX",
        "colab_type": "code",
        "outputId": "e5aa5189-d788-40f8-b88a-af95224d49b7",
        "colab": {
          "base_uri": "https://localhost:8080/",
          "height": 51
        }
      },
      "source": [
        "print('The torch version is {}.'.format(torch.__version__))\n",
        "print('The scikit-learn version is {}.'.format(sklearn.__version__))\n",
        "def makeModel():\n",
        "\tmodel = torch.hub.load('pytorch/vision:v0.5.0', 'resnext50_32x4d', pretrained=True)\n",
        "\tmodel.eval()\n",
        "\treturn model"
      ],
      "execution_count": 0,
      "outputs": [
        {
          "output_type": "stream",
          "text": [
            "The torch version is 1.4.0.\n",
            "The scikit-learn version is 0.21.2.\n"
          ],
          "name": "stdout"
        }
      ]
    },
    {
      "cell_type": "code",
      "metadata": {
        "id": "4c36jqsfAcJB",
        "colab_type": "code",
        "colab": {}
      },
      "source": [
        "def extractFeature(model, dataSetName, imgPath, numData):\n",
        "\tlabelName = Path(dataSetName).stem + 'Label.npy'\n",
        "\tfeatureName = Path(dataSetName).stem + 'Feature.npy'\n",
        "\tprint(labelName)\n",
        "\tprint(featureName)\n",
        "\ttransform_list = [\n",
        "\t\ttransforms.Resize((224, 224)),\n",
        "\t\ttransforms.RandomRotation(degrees=15),\n",
        "\t\ttransforms.RandomHorizontalFlip(p=0.5),\n",
        "\t\ttransforms.ToTensor(),\n",
        "\t\ttransforms.Normalize(mean=[0.485, 0.456, 0.406],std =[0.229, 0.224, 0.225])\n",
        "\t]\n",
        "\timg_to_tensor = transforms.Compose(transform_list)\n",
        "\t#df = pd.read_csv('C1-P1_Train-Dev/train.csv')\n",
        "\t#df = pd.read_csv('C1-P1_Train-Dev/dev.csv')\n",
        "\tdf = pd.read_csv(dataSetName, header=0)\n",
        "\tdata_npy = df.to_numpy()\n",
        "\tprint(data_npy)\n",
        "\n",
        "\t#path = 'C1-P1_Train-Dev/C1-P1_Train/'\n",
        "\tpath = imgPath\n",
        "\n",
        "\tfeature = []\n",
        "\tlabel = []\n",
        "\tTotal = len(data_npy)\n",
        "\tcount = 1\n",
        "\tif(numData < Total):\n",
        "\t\tTotal = numData\n",
        "\n",
        "\tfor data in data_npy[0:Total]:\n",
        "\t\tprint('{}/{}'.format(count, Total))\n",
        "\t\tcount += 1\n",
        "\t\tprint(data)\n",
        "\t\timgName = path + data[0]\n",
        "\t\tprint(imgName)\n",
        "\t\tprint(data[1])\n",
        "\t\timg = Image.open(imgName)\n",
        "\n",
        "\t\ttensor=img_to_tensor(img)\n",
        "\t\ttensor=tensor.resize_(1,3,224,224)\n",
        "\n",
        "\t\tresult = model(Variable(tensor))\n",
        "\t\tresult_npy = result.data.numpy()\n",
        "\t\t#print(result.size())\n",
        "\t\t#print(result_npy.shape)\n",
        "\n",
        "\t\tfeature.append(result_npy)\n",
        "\t\tlabel.append(data[1])\n",
        "\n",
        "\t\t#cv2.imshow(\"\", img)\n",
        "\t\t#cv2.waitKey(0)\n",
        "\t\t#cv2.destroyAllWindows()\n",
        "\tlabel = np.array(label)\n",
        "\tfeature = np.array(feature)\n",
        "\n",
        "\tnp.save(labelName, label)\n",
        "\tnp.save(featureName, feature)\n"
      ],
      "execution_count": 0,
      "outputs": []
    },
    {
      "cell_type": "code",
      "metadata": {
        "id": "m4judFJ8Ad23",
        "colab_type": "code",
        "colab": {}
      },
      "source": [
        "if __name__ == '__main__':\n",
        "\tmodel = makeModel()\n",
        "\tdevice = torch.device(\"cuda:0\" if torch.cuda.is_available() else \"cpu\")\n",
        "\tdataSet = input('1:train 2:val ')\n",
        "\tnumData = int(input('desired number of data: '))\n",
        "\tif(dataSet == '1'):\n",
        "\t\tdataSetName = 'train_1.csv'\n",
        "\t\timgPath = 'train_selected/'\n",
        "\telif(dataSet == '2'):\n",
        "\t\tdataSetName = 'dev_1.csv'\n",
        "\t\timgPath = 'dev_selected/'\n",
        "\telse:\n",
        "\t\tprint('wrong choose')\n",
        "\t\texit(0)\n",
        "\textractFeature(model, dataSetName, imgPath, numData)\n"
      ],
      "execution_count": 0,
      "outputs": []
    },
    {
      "cell_type": "markdown",
      "metadata": {
        "id": "HBXH9nMl4swK",
        "colab_type": "text"
      },
      "source": [
        "TrainSVM"
      ]
    },
    {
      "cell_type": "code",
      "metadata": {
        "id": "6wS1FuLG4h0Z",
        "colab_type": "code",
        "colab": {}
      },
      "source": [
        "def loadDataSet(Xpath, Ypath):\n",
        "    X = np.load(Xpath)\n",
        "    X = np.array([a[0] for a in X])\n",
        "    Y = np.load(Ypath)\n",
        "    return X, Y\n",
        "\n",
        "def constructSVC(C,P):\n",
        "    clf = Pipeline([('anova', SelectPercentile(f_classif)),\n",
        "                    ('svc', SVC(C=1.0, kernel=\"linear\", class_weight='balanced', verbose=True))])\n",
        "    percentile = P\n",
        "    clf.set_params(anova__percentile=percentile)\n",
        "    return clf\n",
        "\n",
        "def train(clf, X_train,y_train):\n",
        "    clf.fit(X_train,y_train)\n",
        "    return clf\n",
        "\n"
      ],
      "execution_count": 0,
      "outputs": []
    },
    {
      "cell_type": "code",
      "metadata": {
        "id": "cYQCe8eM4rp3",
        "colab_type": "code",
        "colab": {}
      },
      "source": [
        "if __name__ == '__main__':\n",
        "    Train_Xpath = 'train_1Feature.npy'\n",
        "    Train_Ypath = 'train_1Label.npy'\n",
        "    Test_Xpath = 'dev_1Feature.npy'\n",
        "    Test_Ypath = 'dev_1Label.npy'\n",
        "    device = torch.device(\"cuda:0\" if torch.cuda.is_available() else \"cpu\")\n",
        "    X_train, y_train = loadDataSet(Train_Xpath, Train_Ypath)\n",
        "    print(X_train.shape)\n",
        "    print(y_train.shape)\n",
        "    #X_test, y_test = loadDataSet(Test_Xpath, Test_Ypath)\n",
        "    #X_train, X_test, y_train, y_test = splitTrainTest(X,Y)\n",
        "\n",
        "    percentile = 20\n",
        "    C = 1.0\n",
        "    clf = constructSVC(C,percentile)\n",
        "    print('start Training')\n",
        "    clf = train(clf, X_train, y_train)\n",
        "\n",
        "    with open('clf.pickle', 'wb') as f:\n",
        "        pickle.dump(clf, f)"
      ],
      "execution_count": 0,
      "outputs": []
    },
    {
      "cell_type": "markdown",
      "metadata": {
        "id": "VeSi6E8V4zyc",
        "colab_type": "text"
      },
      "source": [
        "PredictSVM"
      ]
    },
    {
      "cell_type": "code",
      "metadata": {
        "id": "HqKWbxfk44HH",
        "colab_type": "code",
        "colab": {}
      },
      "source": [
        "import numpy as np\n",
        "import pickle\n",
        "from sklearn.metrics import recall_score\n",
        "\n",
        "def loadDataSet(Xpath, Ypath):\n",
        "    X = np.load(Xpath)\n",
        "    X = np.array([a[0] for a in X])\n",
        "    Y = np.load(Ypath)\n",
        "    return X, Y\n",
        "\n",
        "def predict(clf, X_test):\n",
        "    print(clf)\n",
        "    #this_scores = clf.score(X_test, y_test)\n",
        "    y_pred = clf.predict(X_test)\n",
        "    return y_pred\n",
        "\n",
        "def evaluate(y_test, y_pred):\n",
        "    this_scores = recall_score(y_test, y_pred, average='weighted')\n",
        "    return this_scores\n",
        "\n",
        "def evaluate_scratch(y_test, y_pred):\n",
        "    A = list(zip(y_pred,y_test))\n",
        "    #print(A)\n",
        "    #print('all num:', len(A))\n",
        "    diff = len([a for a in A if (a[0] != a[1])])\n",
        "    same = len([a for a in A if (a[0] == a[1])])\n",
        "    print('diff num:', diff, 'same num:', same)\n",
        "    return same/len(A)"
      ],
      "execution_count": 0,
      "outputs": []
    },
    {
      "cell_type": "code",
      "metadata": {
        "id": "GdlMbg7k46-I",
        "colab_type": "code",
        "outputId": "6667213c-3d64-4141-9b51-8f7711d9f399",
        "colab": {
          "base_uri": "https://localhost:8080/",
          "height": 221
        }
      },
      "source": [
        "if __name__ == '__main__':\n",
        "    Test_Xpath = 'dev_1Feature.npy'\n",
        "    Test_Ypath = 'dev_1Label.npy'\n",
        "    X_test, y_test = loadDataSet(Test_Xpath, Test_Ypath)\n",
        "    device = torch.device(\"cuda:0\" if torch.cuda.is_available() else \"cpu\")\n",
        "    with open('clf.pickle', 'rb') as f:\n",
        "        clf = pickle.load(f)\n",
        "        y_pred = predict(clf, X_test)\n",
        "        recall = evaluate(y_test, y_pred)\n",
        "        #score = clf.score(X_test, y_test)\n",
        "        print('accuracy:', recall)"
      ],
      "execution_count": 0,
      "outputs": [
        {
          "output_type": "stream",
          "text": [
            "Pipeline(memory=None,\n",
            "         steps=[('anova',\n",
            "                 SelectPercentile(percentile=20,\n",
            "                                  score_func=<function f_classif at 0x7f56f9079ea0>)),\n",
            "                ('svc',\n",
            "                 SVC(C=1.0, cache_size=200, class_weight='balanced', coef0=0.0,\n",
            "                     decision_function_shape='ovr', degree=3,\n",
            "                     gamma='auto_deprecated', kernel='linear', max_iter=-1,\n",
            "                     probability=False, random_state=None, shrinking=True,\n",
            "                     tol=0.001, verbose=True))],\n",
            "         verbose=False)\n",
            "accuracy: 0.74\n"
          ],
          "name": "stdout"
        }
      ]
    },
    {
      "cell_type": "code",
      "metadata": {
        "id": "i0_03SWtOyEc",
        "colab_type": "code",
        "colab": {}
      },
      "source": [
        ""
      ],
      "execution_count": 0,
      "outputs": []
    }
  ]
}